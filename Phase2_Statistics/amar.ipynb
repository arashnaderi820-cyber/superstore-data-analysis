{
 "cells": [
  {
   "cell_type": "code",
   "execution_count": 1,
   "id": "7643316b",
   "metadata": {},
   "outputs": [],
   "source": [
    "import pandas as pd \n",
    "import matplotlib.pyplot as plt\n",
    "import seaborn as sns\n",
    "import numpy as np\n",
    "from scipy.stats import mannwhitneyu\n",
    "from scipy.stats import shapiro"
   ]
  },
  {
   "cell_type": "code",
   "execution_count": 3,
   "id": "5c7ffd8d",
   "metadata": {},
   "outputs": [
    {
     "data": {
      "text/html": [
       "<div>\n",
       "<style scoped>\n",
       "    .dataframe tbody tr th:only-of-type {\n",
       "        vertical-align: middle;\n",
       "    }\n",
       "\n",
       "    .dataframe tbody tr th {\n",
       "        vertical-align: top;\n",
       "    }\n",
       "\n",
       "    .dataframe thead th {\n",
       "        text-align: right;\n",
       "    }\n",
       "</style>\n",
       "<table border=\"1\" class=\"dataframe\">\n",
       "  <thead>\n",
       "    <tr style=\"text-align: right;\">\n",
       "      <th></th>\n",
       "      <th>Order ID</th>\n",
       "      <th>Product ID</th>\n",
       "      <th>Quantity</th>\n",
       "      <th>Discount</th>\n",
       "    </tr>\n",
       "  </thead>\n",
       "  <tbody>\n",
       "    <tr>\n",
       "      <th>0</th>\n",
       "      <td>AE-2011-9160</td>\n",
       "      <td>OFF-FEL-10001405</td>\n",
       "      <td>2</td>\n",
       "      <td>0.7</td>\n",
       "    </tr>\n",
       "    <tr>\n",
       "      <th>1</th>\n",
       "      <td>AE-2011-9160</td>\n",
       "      <td>TEC-EPS-10004171</td>\n",
       "      <td>6</td>\n",
       "      <td>0.7</td>\n",
       "    </tr>\n",
       "    <tr>\n",
       "      <th>2</th>\n",
       "      <td>AE-2013-1130</td>\n",
       "      <td>FUR-BUS-10003055</td>\n",
       "      <td>6</td>\n",
       "      <td>0.7</td>\n",
       "    </tr>\n",
       "    <tr>\n",
       "      <th>3</th>\n",
       "      <td>AE-2013-1130</td>\n",
       "      <td>OFF-ACC-10004278</td>\n",
       "      <td>1</td>\n",
       "      <td>0.7</td>\n",
       "    </tr>\n",
       "    <tr>\n",
       "      <th>4</th>\n",
       "      <td>AE-2013-1530</td>\n",
       "      <td>OFF-STI-10000114</td>\n",
       "      <td>2</td>\n",
       "      <td>0.7</td>\n",
       "    </tr>\n",
       "    <tr>\n",
       "      <th>...</th>\n",
       "      <td>...</td>\n",
       "      <td>...</td>\n",
       "      <td>...</td>\n",
       "      <td>...</td>\n",
       "    </tr>\n",
       "    <tr>\n",
       "      <th>29995</th>\n",
       "      <td>IT-2012-5774254</td>\n",
       "      <td>OFF-ST-10000872</td>\n",
       "      <td>1</td>\n",
       "      <td>0.0</td>\n",
       "    </tr>\n",
       "    <tr>\n",
       "      <th>29996</th>\n",
       "      <td>IT-2012-5787277</td>\n",
       "      <td>TEC-MA-10000110</td>\n",
       "      <td>5</td>\n",
       "      <td>0.5</td>\n",
       "    </tr>\n",
       "    <tr>\n",
       "      <th>29997</th>\n",
       "      <td>IT-2012-5870634</td>\n",
       "      <td>OFF-AP-10003622</td>\n",
       "      <td>2</td>\n",
       "      <td>0.1</td>\n",
       "    </tr>\n",
       "    <tr>\n",
       "      <th>29998</th>\n",
       "      <td>IT-2012-5883185</td>\n",
       "      <td>TEC-AC-10001402</td>\n",
       "      <td>3</td>\n",
       "      <td>0.0</td>\n",
       "    </tr>\n",
       "    <tr>\n",
       "      <th>29999</th>\n",
       "      <td>IT-2012-5883185</td>\n",
       "      <td>TEC-MA-10003923</td>\n",
       "      <td>3</td>\n",
       "      <td>0.1</td>\n",
       "    </tr>\n",
       "  </tbody>\n",
       "</table>\n",
       "<p>30000 rows × 4 columns</p>\n",
       "</div>"
      ],
      "text/plain": [
       "              Order ID        Product ID  Quantity  Discount\n",
       "0         AE-2011-9160  OFF-FEL-10001405         2       0.7\n",
       "1         AE-2011-9160  TEC-EPS-10004171         6       0.7\n",
       "2         AE-2013-1130  FUR-BUS-10003055         6       0.7\n",
       "3         AE-2013-1130  OFF-ACC-10004278         1       0.7\n",
       "4         AE-2013-1530  OFF-STI-10000114         2       0.7\n",
       "...                ...               ...       ...       ...\n",
       "29995  IT-2012-5774254   OFF-ST-10000872         1       0.0\n",
       "29996  IT-2012-5787277   TEC-MA-10000110         5       0.5\n",
       "29997  IT-2012-5870634   OFF-AP-10003622         2       0.1\n",
       "29998  IT-2012-5883185   TEC-AC-10001402         3       0.0\n",
       "29999  IT-2012-5883185   TEC-MA-10003923         3       0.1\n",
       "\n",
       "[30000 rows x 4 columns]"
      ]
     },
     "execution_count": 3,
     "metadata": {},
     "output_type": "execute_result"
    }
   ],
   "source": [
    "file_path=r\"Phase2_Discount_StatisticalTest.csv\"\n",
    "df=pd.read_csv(file_path)\n",
    "df"
   ]
  },
  {
   "cell_type": "code",
   "execution_count": 13,
   "id": "1f314d9d",
   "metadata": {},
   "outputs": [
    {
     "data": {
      "text/html": [
       "<div>\n",
       "<style scoped>\n",
       "    .dataframe tbody tr th:only-of-type {\n",
       "        vertical-align: middle;\n",
       "    }\n",
       "\n",
       "    .dataframe tbody tr th {\n",
       "        vertical-align: top;\n",
       "    }\n",
       "\n",
       "    .dataframe thead th {\n",
       "        text-align: right;\n",
       "    }\n",
       "</style>\n",
       "<table border=\"1\" class=\"dataframe\">\n",
       "  <thead>\n",
       "    <tr style=\"text-align: right;\">\n",
       "      <th>Quantity</th>\n",
       "      <th>1</th>\n",
       "      <th>2</th>\n",
       "      <th>3</th>\n",
       "      <th>4</th>\n",
       "      <th>5</th>\n",
       "      <th>6</th>\n",
       "      <th>7</th>\n",
       "      <th>8</th>\n",
       "      <th>9</th>\n",
       "      <th>10</th>\n",
       "      <th>11</th>\n",
       "      <th>12</th>\n",
       "      <th>13</th>\n",
       "      <th>14</th>\n",
       "    </tr>\n",
       "    <tr>\n",
       "      <th>status</th>\n",
       "      <th></th>\n",
       "      <th></th>\n",
       "      <th></th>\n",
       "      <th></th>\n",
       "      <th></th>\n",
       "      <th></th>\n",
       "      <th></th>\n",
       "      <th></th>\n",
       "      <th></th>\n",
       "      <th></th>\n",
       "      <th></th>\n",
       "      <th></th>\n",
       "      <th></th>\n",
       "      <th></th>\n",
       "    </tr>\n",
       "  </thead>\n",
       "  <tbody>\n",
       "    <tr>\n",
       "      <th>has discount</th>\n",
       "      <td>1218</td>\n",
       "      <td>3293</td>\n",
       "      <td>2987</td>\n",
       "      <td>1604</td>\n",
       "      <td>1461</td>\n",
       "      <td>823</td>\n",
       "      <td>706</td>\n",
       "      <td>355</td>\n",
       "      <td>312</td>\n",
       "      <td>67</td>\n",
       "      <td>47</td>\n",
       "      <td>37</td>\n",
       "      <td>29</td>\n",
       "      <td>45</td>\n",
       "    </tr>\n",
       "    <tr>\n",
       "      <th>no discount</th>\n",
       "      <td>2774</td>\n",
       "      <td>4333</td>\n",
       "      <td>3246</td>\n",
       "      <td>2151</td>\n",
       "      <td>1617</td>\n",
       "      <td>992</td>\n",
       "      <td>826</td>\n",
       "      <td>452</td>\n",
       "      <td>331</td>\n",
       "      <td>97</td>\n",
       "      <td>48</td>\n",
       "      <td>62</td>\n",
       "      <td>32</td>\n",
       "      <td>55</td>\n",
       "    </tr>\n",
       "  </tbody>\n",
       "</table>\n",
       "</div>"
      ],
      "text/plain": [
       "Quantity        1     2     3     4     5    6    7    8    9   10  11  12  \\\n",
       "status                                                                       \n",
       "has discount  1218  3293  2987  1604  1461  823  706  355  312  67  47  37   \n",
       "no discount   2774  4333  3246  2151  1617  992  826  452  331  97  48  62   \n",
       "\n",
       "Quantity      13  14  \n",
       "status                \n",
       "has discount  29  45  \n",
       "no discount   32  55  "
      ]
     },
     "execution_count": 13,
     "metadata": {},
     "output_type": "execute_result"
    }
   ],
   "source": [
    "df[\"status\"]=df[\"Discount\"].apply(lambda x:\"no discount\" if x==0 else \"has discount\")\n",
    "distribution=pd.pivot_table(\n",
    "    df,\n",
    "    index=\"status\",\n",
    "    columns=\"Quantity\",\n",
    "    aggfunc=\"size\",\n",
    "    fill_value=0\n",
    "\n",
    "\n",
    ")\n",
    "distribution"
   ]
  },
  {
   "cell_type": "code",
   "execution_count": 8,
   "id": "f78ed404",
   "metadata": {},
   "outputs": [
    {
     "data": {
      "image/png": "[encoded data removed]",
      "text/plain": [
       "<Figure size 800x500 with 1 Axes>"
      ]
     },
     "metadata": {},
     "output_type": "display_data"
    }
   ],
   "source": [
    "x = np.arange(len(distribution.columns))\n",
    "width = 0.4\n",
    "\n",
    "\n",
    "sns.set_style(\"whitegrid\")\n",
    "plt.figure(figsize=(8,5))\n",
    "\n",
    "colors = sns.color_palette(\"Set2\", n_colors=len(distribution.index))\n",
    "\n",
    "for i, (status, color) in enumerate(zip(distribution.index, colors)):\n",
    "    plt.bar(x + i*width, distribution.loc[status], width=width, alpha=0.8, label=status, color=color)\n",
    "\n",
    "plt.xticks(x + width/2, distribution.columns)\n",
    "plt.xlabel('Quantity Sold', fontsize=12)\n",
    "plt.ylabel('Number of Orders', fontsize=12)\n",
    "plt.title('Distribution of Sales by Discount Status', fontsize=14, weight='bold')\n",
    "plt.legend(title=\"Status\", frameon=True)\n",
    "sns.despine()\n",
    "plt.tight_layout()\n",
    "plt.show()\n"
   ]
  },
  {
   "cell_type": "markdown",
   "id": "9994bdd1",
   "metadata": {},
   "source": [
    "<div style=\"font-family:Tahoma, sans-serif; direction:rtl; line-height:1.8; font-size:17px; text-align:justify; padding:12px; border:2px solid #74b9ff; border-radius:8px; box-sizing:border-box; max-width:100%; margin:0 auto;\">\n",
    "  <p>\n",
    "بر اساس هیستوگرام, توزیع تعداد آیتم‌های فروخته‌شده (Quantity Sold) در دو گروه تخفیف‌دار (آبی) و بدون تخفیف (نارنجی) مشابه است و هر دو به سمت مقدارهای پایین (1-4) متمایل هستند. با این حال, تعداد رکوردهای بدون تخفیف در بیشتر مقادیر بالاتر است, اما در برخی نقاط متوسط (مثل 3-4) گروه با تخفیف نزدیک یا کمی بیشتر دیده می‌شود. این نشان می‌دهد که در سطح توصیفی, تخفیف تأثیر واضحی بر افزایش تعداد فروش ندارد و توزیع‌ها تقریباً یکسان هستند  </p>\n",
    "</div>"
   ]
  },
  {
   "cell_type": "code",
   "execution_count": 11,
   "id": "4e964a13",
   "metadata": {},
   "outputs": [
    {
     "name": "stderr",
     "output_type": "stream",
     "text": [
      "C:\\Users\\Asus\\AppData\\Local\\Temp\\ipykernel_3964\\83432320.py:8: FutureWarning: \n",
      "\n",
      "Passing `palette` without assigning `hue` is deprecated and will be removed in v0.14.0. Assign the `x` variable to `hue` and set `legend=False` for the same effect.\n",
      "\n",
      "  sns.boxplot(\n"
     ]
    },
    {
     "data": {
      "image/png": "[encoded data removed]",
      "text/plain": [
       "<Figure size 700x500 with 1 Axes>"
      ]
     },
     "metadata": {},
     "output_type": "display_data"
    }
   ],
   "source": [
    "df_long = df[['Quantity', 'status']]\n",
    "\n",
    "\n",
    "sns.set_style(\"whitegrid\")\n",
    "plt.figure(figsize=(7,5))\n",
    "\n",
    "\n",
    "sns.boxplot(\n",
    "    x='status', \n",
    "    y='Quantity', \n",
    "    data=df_long, \n",
    "    palette='Set2'\n",
    ")\n",
    "\n",
    "\n",
    "plt.xlabel('Discount Status', fontsize=12)\n",
    "plt.ylabel('Quantity Sold', fontsize=12)\n",
    "plt.title('Boxplot of Quantity Sold by Discount Status', fontsize=14, weight='bold')\n",
    "\n",
    "sns.despine()\n",
    "plt.tight_layout()\n",
    "plt.show()"
   ]
  },
  {
   "cell_type": "markdown",
   "id": "3bcade12",
   "metadata": {},
   "source": [
    "<div style=\"font-family:Tahoma, sans-serif; direction:rtl; line-height:1.8; font-size:17px; text-align:justify; padding:12px; border:2px solid #74b9ff; border-radius:8px; box-sizing:border-box; max-width:100%; margin:0 auto;\">\n",
    "  <p>\n",
    "    بر اساس باکس پلات، توزیع تعداد آیتم‌های فروخته‌شده (Quantity Sold) در دو گروه تخفیف‌دار (has discount) و بدون تخفیف (no discount) بسیار مشابه است. میانه (median) هر دو گروه حدود ۳ آیتم است، که نشان‌دهنده این است که بیشتر فروش‌ها در هر دو گروه شامل تعداد کمی آیتم می‌شود.\n",
    "  </p>\n",
    "  <p>\n",
    "    چارک‌ها (quartiles) نیز نزدیک به هم هستند، با این تفاوت که گروه بدون تخفیف کمی پراکندگی بیشتری دارد (box کمی بلندتر) و outliers (نقاط خارج از رنج) تا حدود ۱۶ می‌رسد، در حالی که گروه با تخفیف outliers کمتری دارد.\n",
    "  </p>\n",
    "  <p>\n",
    "    این نشان می‌دهد که در سطح توصیفی، تخفیف تأثیر چشمگیری بر افزایش تعداد آیتم‌های فروخته‌شده ندارد و توزیع‌ها تقریباً یکسان هستند.\n",
    "  </p>\n",
    "</div>"
   ]
  },
  {
   "cell_type": "code",
   "execution_count": 16,
   "id": "e017044c",
   "metadata": {},
   "outputs": [
    {
     "name": "stdout",
     "output_type": "stream",
     "text": [
      "p_value for no Discount: \n",
      "3.6980157148647436e-79\n",
      "\n",
      "\n",
      "p_value for Discount: \n",
      "6.358986336560753e-72\n",
      "\n",
      "\n",
      "\n",
      "\n",
      "\n",
      "\n"
     ]
    }
   ],
   "source": [
    "no_discount = df[df[\"status\"] == \"no discount\"][\"Quantity\"]\n",
    "has_discount = df[df[\"status\"] == \"has discount\"][\"Quantity\"]\n",
    "\n",
    "\n",
    "stat_no, p_no = shapiro(no_discount) \n",
    "stat_has, p_has = shapiro(has_discount)\n",
    "\n",
    "print('p_value for no Discount: ')\n",
    "print(p_no)\n",
    "print('\\n')\n",
    "print('p_value for Discount: ')\n",
    "print(p_has)\n",
    "print('\\n')\n",
    "print('\\n')\n",
    "print('\\n')\n"
   ]
  },
  {
   "cell_type": "markdown",
   "id": "008f0618",
   "metadata": {},
   "source": [
    "<div style=\"font-family:Tahoma, sans-serif; direction:rtl; line-height:1.8; font-size:17px; text-align:justify; padding:12px; border:2px solid #74b9ff; border-radius:8px; box-sizing:border-box; max-width:100%; margin:0 auto;\">\n",
    "  <p>\n",
    "    مقادیر p-value در تست Shapiro-Wilk برای گروه بدون تخفیف (3.70e-79) و با تخفیف (6.36e-72) بسیار کوچک‌تر از سطح معنی‌داری 0.05 هستند. این نشان‌دهنده آن است که توزیع Sum of Quantity در هر دو گروه غیرنرمال است و از توزیع نرمال به طور قابل توجهی فاصله دارد.\n",
    "  </p>\n",
    "  <p>بنابراین, استفاده از تست‌های ناپارامتریک مانند Mann-Whitney U برای مقایسه دو گروه مناسب است, زیرا این تست‌ها به فرض نرمال بودن داده‌ها وابسته نیستند.\n",
    "  </p>\n",
    "</div>"
   ]
  },
  {
   "cell_type": "code",
   "execution_count": 17,
   "id": "66d41b61",
   "metadata": {},
   "outputs": [
    {
     "name": "stdout",
     "output_type": "stream",
     "text": [
      "Mann-Whitney U statistic:\n",
      "119490403.0\n",
      "p-value:\n",
      "6.814911035215513e-35\n"
     ]
    }
   ],
   "source": [
    "has_discount_counts = [1216, 3298, 2986, 1604, 1459, 827, 707, 353, 312, 68, 47, 37, 30, 46, 1, 0]\n",
    "no_discount_counts  = [2772, 4327, 3242, 2151, 1615, 993, 830, 452, 330, 97, 48, 63, 32, 54, 1, 1]\n",
    "\n",
    "\n",
    "quantities = np.arange(1, 17)\n",
    "\n",
    "\n",
    "has_discount_list = np.repeat(quantities, has_discount_counts)\n",
    "no_discount_list  = np.repeat(quantities, no_discount_counts)\n",
    "\n",
    "\n",
    "stat, p_value = mannwhitneyu(has_discount_list, no_discount_list, alternative='two-sided')\n",
    "\n",
    "print(\"Mann-Whitney U statistic:\")\n",
    "print(stat)\n",
    "print(\"p-value:\")\n",
    "print(p_value)\n"
   ]
  },
  {
   "cell_type": "markdown",
   "id": "ad4adacc",
   "metadata": {},
   "source": [
    "<div style=\"font-family:Tahoma, sans-serif; direction:rtl; line-height:1.8; font-size:17px; text-align:justify; padding:12px; border:2px solid #74b9ff; border-radius:8px; box-sizing:border-box; max-width:100%; margin:0 auto;\">\n",
    "  <p>\n",
    "    آماره Mann-Whitney U برابر با 119490403.0 است که نشان‌دهنده تفاوت قابل توجه بین دو گروه (با تخفیف و بدون تخفیف) است. مقدار p-value برابر با 6.81e-35 (بسیار کوچک‌تر از سطح معنی‌داری 0.05) می‌باشد, که فرض صفر (عدم تفاوت بین توزیع‌ها) را رد می‌کند.\n",
    "  </p>\n",
    "  <p>\n",
    "بنابراین, تفاوت معنی‌داری بین تعداد آیتم‌های فروخته‌شده در گروه‌های تخفیف‌دار و بدون تخفیف وجود دارد, و تخفیف به طور قابل توجهی بر افزایش تعداد فروش تأثیر مثبت دارد.  </p>\n",
    "</div>"
   ]
  }
 ],
 "metadata": {
  "kernelspec": {
   "display_name": "Python 3",
   "language": "python",
   "name": "python3"
  },
  "language_info": {
   "codemirror_mode": {
    "name": "ipython",
    "version": 3
   },
   "file_extension": ".py",
   "mimetype": "text/x-python",
   "name": "python",
   "nbconvert_exporter": "python",
   "pygments_lexer": "ipython3",
   "version": "3.11.9"
  }
 },
 "nbformat": 4,
 "nbformat_minor": 5
}
