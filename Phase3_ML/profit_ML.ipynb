{
 "cells": [
  {
   "metadata": {},
   "cell_type": "markdown",
   "source": [
    "<h1>پیش‌بینی سود فروش محصولات با استفاده از مدل‌های رگرسیونی</h1>\n",
    "\n",
    "<p dir=\"rtl\">\n",
    "در این پروژه، با استفاده از داده‌های فروش محصولات، هدف ما طراحی مدلی است که بتواند مقدار سود (<code>Profit</code>) را بر اساس ویژگی‌های مختلف سفارش، محصول، و زمان پیش‌بینی کند. این مدل می‌تواند به تصمیم‌گیری‌های استراتژیک شرکت‌ها در زمینه فروش، بازاریابی و مدیریت موجودی کمک کند.\n",
    "</p>\n"
   ],
   "id": "b633603dec32d622"
  },
  {
   "metadata": {},
   "cell_type": "markdown",
   "source": [
    "<h2>وارد کردن کتابخانه‌ها و مدل‌ها</h2>\n",
    "\n",
    "<p dir=\"rtl\">\n",
    "در این بخش، کتابخانه‌های مورد نیاز برای پیش‌پردازش داده‌ها، تقسیم داده‌ها، آموزش مدل‌های رگرسیونی، و ارزیابی عملکرد مدل‌ها وارد شده‌اند.\n",
    "</p>\n",
    "\n"
   ],
   "id": "a0ed2061a098356"
  },
  {
   "cell_type": "code",
   "id": "initial_id",
   "metadata": {
    "collapsed": true,
    "ExecuteTime": {
     "end_time": "2025-10-18T18:15:54.579414Z",
     "start_time": "2025-10-18T18:15:54.570633Z"
    }
   },
   "source": [
    "import pandas as pd\n",
    "import numpy as np\n",
    "from sklearn.preprocessing import StandardScaler, RobustScaler\n",
    "from sklearn.model_selection import train_test_split\n",
    "from sklearn.linear_model import Ridge, ElasticNet\n",
    "from sklearn.svm import SVR\n",
    "from sklearn.ensemble import GradientBoostingRegressor, RandomForestRegressor\n",
    "from xgboost import XGBRegressor\n",
    "from sklearn.model_selection import GridSearchCV\n",
    "from sklearn.metrics import r2_score, mean_absolute_error, mean_squared_error, mean_absolute_percentage_error\n",
    "import pickle"
   ],
   "outputs": [],
   "execution_count": 118
  },
  {
   "metadata": {},
   "cell_type": "markdown",
   "source": [
    "<h2>بارگذاری و بررسی اولیه داده‌ها</h2>\n",
    "\n",
    "<p dir=\"rtl\">\n",
    "در این مرحله، داده‌ها از فایل <code>phase3_profit_prediction_dataset.csv</code> بارگذاری شده و ساختار کلی آن بررسی می‌شود. این بررسی شامل مشاهده نمونه‌ای از داده‌ها، نوع داده‌ها در هر ستون، و تعداد مقادیر یکتای هر ستون است.\n",
    "</p>\n",
    "\n",
    "<p dir=\"rtl\">\n",
    "هدف از این مرحله، آشنایی اولیه با ساختار داده‌ها، شناسایی ستون‌های متنی، عددی، و بررسی وجود مقادیر پرت یا تکراری است. این اطلاعات در طراحی مراحل بعدی پیش‌پردازش و انتخاب مدل بسیار مؤثر خواهد بود.\n",
    "</p>\n"
   ],
   "id": "6ebe35ee01a8c6e9"
  },
  {
   "metadata": {
    "ExecuteTime": {
     "end_time": "2025-10-18T16:32:41.060336Z",
     "start_time": "2025-10-18T16:32:40.859047Z"
    }
   },
   "cell_type": "code",
   "source": "df = pd.read_csv('phase3_profit_prediction_dataset.csv')",
   "id": "887bfc7b7f2506a",
   "outputs": [],
   "execution_count": 84
  },
  {
   "metadata": {
    "ExecuteTime": {
     "end_time": "2025-10-18T16:32:41.176512Z",
     "start_time": "2025-10-18T16:32:41.148028Z"
    }
   },
   "cell_type": "code",
   "source": "df.head()",
   "id": "ce43557f103294b0",
   "outputs": [
    {
     "data": {
      "text/plain": [
       "        Profit  Discount   ProfitMargin  Quantity        Sales  \\\n",
       "0 -6599.979980       0.7  '-1.466668743         5  4499.979980   \n",
       "1 -3839.989990       0.5   '-0.47999995         4  7999.979980   \n",
       "2 -3701.889893       0.8  '-1.700001727         8  2177.580078   \n",
       "3 -3399.979980       0.7  '-1.333330716         5  2549.989990   \n",
       "4 -3059.820068       0.5  '-0.900037106        12  3399.659912   \n",
       "\n",
       "   SalesAfterDiscount  Shipping Cost       Ship Mode         Category  \\\n",
       "0         1349.994048     451.630005  Standard Class       Technology   \n",
       "1         3999.989990     674.820007        Same Day       Technology   \n",
       "2          435.515990     172.070007  Standard Class  Office Supplies   \n",
       "3          764.997027     120.309998  Standard Class       Technology   \n",
       "4         1699.829956     286.869995  Standard Class  Office Supplies   \n",
       "\n",
       "            CategorySubcategory  ... Order Priority   Region        Country  \\\n",
       "0         Technology - Machines  ...            Low     East  United States   \n",
       "1         Technology - Machines  ...           High    South  United States   \n",
       "2     Office Supplies - Binders  ...         Medium  Central  United States   \n",
       "3         Technology - Machines  ...         Medium     West  United States   \n",
       "4  Office Supplies - Appliances  ...         Medium    South       Portugal   \n",
       "\n",
       "          City DayOfWeek IsWeekend Day  Month  Year      Segment  \n",
       "0    Lancaster         3     False  26     11  2013     Consumer  \n",
       "1   Burlington         4     False   5     11  2014    Corporate  \n",
       "2  San Antonio         3     False  26      7  2011     Consumer  \n",
       "3   Louisville         6      True  18      4  2014  Home Office  \n",
       "4       Lisbon         2     False  10      6  2013    Corporate  \n",
       "\n",
       "[5 rows x 23 columns]"
      ],
      "text/html": [
       "<div>\n",
       "<style scoped>\n",
       "    .dataframe tbody tr th:only-of-type {\n",
       "        vertical-align: middle;\n",
       "    }\n",
       "\n",
       "    .dataframe tbody tr th {\n",
       "        vertical-align: top;\n",
       "    }\n",
       "\n",
       "    .dataframe thead th {\n",
       "        text-align: right;\n",
       "    }\n",
       "</style>\n",
       "<table border=\"1\" class=\"dataframe\">\n",
       "  <thead>\n",
       "    <tr style=\"text-align: right;\">\n",
       "      <th></th>\n",
       "      <th>Profit</th>\n",
       "      <th>Discount</th>\n",
       "      <th>ProfitMargin</th>\n",
       "      <th>Quantity</th>\n",
       "      <th>Sales</th>\n",
       "      <th>SalesAfterDiscount</th>\n",
       "      <th>Shipping Cost</th>\n",
       "      <th>Ship Mode</th>\n",
       "      <th>Category</th>\n",
       "      <th>CategorySubcategory</th>\n",
       "      <th>...</th>\n",
       "      <th>Order Priority</th>\n",
       "      <th>Region</th>\n",
       "      <th>Country</th>\n",
       "      <th>City</th>\n",
       "      <th>DayOfWeek</th>\n",
       "      <th>IsWeekend</th>\n",
       "      <th>Day</th>\n",
       "      <th>Month</th>\n",
       "      <th>Year</th>\n",
       "      <th>Segment</th>\n",
       "    </tr>\n",
       "  </thead>\n",
       "  <tbody>\n",
       "    <tr>\n",
       "      <th>0</th>\n",
       "      <td>-6599.979980</td>\n",
       "      <td>0.7</td>\n",
       "      <td>'-1.466668743</td>\n",
       "      <td>5</td>\n",
       "      <td>4499.979980</td>\n",
       "      <td>1349.994048</td>\n",
       "      <td>451.630005</td>\n",
       "      <td>Standard Class</td>\n",
       "      <td>Technology</td>\n",
       "      <td>Technology - Machines</td>\n",
       "      <td>...</td>\n",
       "      <td>Low</td>\n",
       "      <td>East</td>\n",
       "      <td>United States</td>\n",
       "      <td>Lancaster</td>\n",
       "      <td>3</td>\n",
       "      <td>False</td>\n",
       "      <td>26</td>\n",
       "      <td>11</td>\n",
       "      <td>2013</td>\n",
       "      <td>Consumer</td>\n",
       "    </tr>\n",
       "    <tr>\n",
       "      <th>1</th>\n",
       "      <td>-3839.989990</td>\n",
       "      <td>0.5</td>\n",
       "      <td>'-0.47999995</td>\n",
       "      <td>4</td>\n",
       "      <td>7999.979980</td>\n",
       "      <td>3999.989990</td>\n",
       "      <td>674.820007</td>\n",
       "      <td>Same Day</td>\n",
       "      <td>Technology</td>\n",
       "      <td>Technology - Machines</td>\n",
       "      <td>...</td>\n",
       "      <td>High</td>\n",
       "      <td>South</td>\n",
       "      <td>United States</td>\n",
       "      <td>Burlington</td>\n",
       "      <td>4</td>\n",
       "      <td>False</td>\n",
       "      <td>5</td>\n",
       "      <td>11</td>\n",
       "      <td>2014</td>\n",
       "      <td>Corporate</td>\n",
       "    </tr>\n",
       "    <tr>\n",
       "      <th>2</th>\n",
       "      <td>-3701.889893</td>\n",
       "      <td>0.8</td>\n",
       "      <td>'-1.700001727</td>\n",
       "      <td>8</td>\n",
       "      <td>2177.580078</td>\n",
       "      <td>435.515990</td>\n",
       "      <td>172.070007</td>\n",
       "      <td>Standard Class</td>\n",
       "      <td>Office Supplies</td>\n",
       "      <td>Office Supplies - Binders</td>\n",
       "      <td>...</td>\n",
       "      <td>Medium</td>\n",
       "      <td>Central</td>\n",
       "      <td>United States</td>\n",
       "      <td>San Antonio</td>\n",
       "      <td>3</td>\n",
       "      <td>False</td>\n",
       "      <td>26</td>\n",
       "      <td>7</td>\n",
       "      <td>2011</td>\n",
       "      <td>Consumer</td>\n",
       "    </tr>\n",
       "    <tr>\n",
       "      <th>3</th>\n",
       "      <td>-3399.979980</td>\n",
       "      <td>0.7</td>\n",
       "      <td>'-1.333330716</td>\n",
       "      <td>5</td>\n",
       "      <td>2549.989990</td>\n",
       "      <td>764.997027</td>\n",
       "      <td>120.309998</td>\n",
       "      <td>Standard Class</td>\n",
       "      <td>Technology</td>\n",
       "      <td>Technology - Machines</td>\n",
       "      <td>...</td>\n",
       "      <td>Medium</td>\n",
       "      <td>West</td>\n",
       "      <td>United States</td>\n",
       "      <td>Louisville</td>\n",
       "      <td>6</td>\n",
       "      <td>True</td>\n",
       "      <td>18</td>\n",
       "      <td>4</td>\n",
       "      <td>2014</td>\n",
       "      <td>Home Office</td>\n",
       "    </tr>\n",
       "    <tr>\n",
       "      <th>4</th>\n",
       "      <td>-3059.820068</td>\n",
       "      <td>0.5</td>\n",
       "      <td>'-0.900037106</td>\n",
       "      <td>12</td>\n",
       "      <td>3399.659912</td>\n",
       "      <td>1699.829956</td>\n",
       "      <td>286.869995</td>\n",
       "      <td>Standard Class</td>\n",
       "      <td>Office Supplies</td>\n",
       "      <td>Office Supplies - Appliances</td>\n",
       "      <td>...</td>\n",
       "      <td>Medium</td>\n",
       "      <td>South</td>\n",
       "      <td>Portugal</td>\n",
       "      <td>Lisbon</td>\n",
       "      <td>2</td>\n",
       "      <td>False</td>\n",
       "      <td>10</td>\n",
       "      <td>6</td>\n",
       "      <td>2013</td>\n",
       "      <td>Corporate</td>\n",
       "    </tr>\n",
       "  </tbody>\n",
       "</table>\n",
       "<p>5 rows × 23 columns</p>\n",
       "</div>"
      ]
     },
     "execution_count": 85,
     "metadata": {},
     "output_type": "execute_result"
    }
   ],
   "execution_count": 85
  },
  {
   "metadata": {
    "ExecuteTime": {
     "end_time": "2025-10-18T16:32:41.949936Z",
     "start_time": "2025-10-18T16:32:41.919053Z"
    }
   },
   "cell_type": "code",
   "source": "df.info()",
   "id": "880c411f0c91b705",
   "outputs": [
    {
     "name": "stdout",
     "output_type": "stream",
     "text": [
      "<class 'pandas.core.frame.DataFrame'>\n",
      "RangeIndex: 30000 entries, 0 to 29999\n",
      "Data columns (total 23 columns):\n",
      " #   Column               Non-Null Count  Dtype  \n",
      "---  ------               --------------  -----  \n",
      " 0   Profit               30000 non-null  float64\n",
      " 1   Discount             30000 non-null  float64\n",
      " 2   ProfitMargin         30000 non-null  object \n",
      " 3   Quantity             30000 non-null  int64  \n",
      " 4   Sales                30000 non-null  float64\n",
      " 5   SalesAfterDiscount   30000 non-null  float64\n",
      " 6   Shipping Cost        30000 non-null  float64\n",
      " 7   Ship Mode            30000 non-null  object \n",
      " 8   Category             30000 non-null  object \n",
      " 9   CategorySubcategory  30000 non-null  object \n",
      " 10  Product Name         30000 non-null  object \n",
      " 11  IsReturned           30000 non-null  object \n",
      " 12  Market               30000 non-null  object \n",
      " 13  Order Priority       30000 non-null  object \n",
      " 14  Region               30000 non-null  object \n",
      " 15  Country              30000 non-null  object \n",
      " 16  City                 30000 non-null  object \n",
      " 17  DayOfWeek            30000 non-null  int64  \n",
      " 18  IsWeekend            30000 non-null  bool   \n",
      " 19  Day                  30000 non-null  int64  \n",
      " 20  Month                30000 non-null  int64  \n",
      " 21  Year                 30000 non-null  int64  \n",
      " 22  Segment              30000 non-null  object \n",
      "dtypes: bool(1), float64(5), int64(5), object(12)\n",
      "memory usage: 5.1+ MB\n"
     ]
    }
   ],
   "execution_count": 86
  },
  {
   "metadata": {
    "ExecuteTime": {
     "end_time": "2025-10-18T16:33:40.402061Z",
     "start_time": "2025-10-18T16:33:40.359334Z"
    }
   },
   "cell_type": "code",
   "outputs": [
    {
     "data": {
      "text/plain": [
       "IsReturned                 2\n",
       "IsWeekend                  2\n",
       "Segment                    3\n",
       "Category                   3\n",
       "Ship Mode                  4\n",
       "Year                       4\n",
       "Order Priority             4\n",
       "Market                     7\n",
       "DayOfWeek                  7\n",
       "Month                     12\n",
       "Region                    13\n",
       "Quantity                  14\n",
       "CategorySubcategory       17\n",
       "Discount                  27\n",
       "Day                       31\n",
       "Country                  142\n",
       "City                    3197\n",
       "Shipping Cost           9235\n",
       "Sales                  13674\n",
       "Profit                 14076\n",
       "ProfitMargin           15925\n",
       "SalesAfterDiscount     16593\n",
       "dtype: int64"
      ]
     },
     "execution_count": 91,
     "metadata": {},
     "output_type": "execute_result"
    }
   ],
   "execution_count": 91,
   "source": "df.nunique().sort_values()",
   "id": "9c394dbcf1c745d7"
  },
  {
   "metadata": {},
   "cell_type": "markdown",
   "source": [
    "<h2>پیش‌پردازش داده‌ها و آماده‌سازی برای مدل‌سازی</h2>\n",
    "\n",
    "<p dir=\"rtl\">\n",
    "در این مرحله، داده‌ها برای آموزش مدل‌های رگرسیونی آماده‌سازی می‌شوند. این شامل پاک‌سازی مقادیر رشته‌ای، تبدیل ویژگی‌های متنی به عددی، حذف ستون‌های غیرمفید، و نرمال‌سازی ویژگی‌های عددی است.\n",
    "</p>\n",
    "\n",
    "<p dir=\"rtl\">\n",
    "مراحل انجام‌شده:\n",
    "</p>\n",
    "<ul dir=\"rtl\">\n",
    "  <li>پاک‌سازی ستون <code>ProfitMargin</code> از کاراکترهای اضافی و تبدیل به عدد</li>\n",
    "  <li>حذف ستون <code>Product Name</code> به‌دلیل یکتایی بالا و بی‌اثر بودن در مدل</li>\n",
    "  <li>تبدیل ستون <code>IsReturned</code> به مقدار عددی (1 برای Yes، 0 برای No)</li>\n",
    "  <li>تبدیل ستون‌های دسته‌ای با تعداد کلاس کم به One-Hot Encoding</li>\n",
    "  <li>کاهش کلاس‌های زیاد در ستون‌های <code>Country</code> و <code>City</code> به ۱۰ مقدار پرتکرار و تبدیل بقیه به \"Other\"</li>\n",
    "  <li>نرمال‌سازی ویژگی‌های عددی با <code>RobustScaler</code> برای کاهش تأثیر داده‌های پرت</li>\n",
    "</ul>\n"
   ],
   "id": "92131f42a11fdde3"
  },
  {
   "metadata": {
    "ExecuteTime": {
     "end_time": "2025-10-18T16:32:42.409428Z",
     "start_time": "2025-10-18T16:32:42.366258Z"
    }
   },
   "cell_type": "code",
   "outputs": [],
   "execution_count": 87,
   "source": [
    "df['ProfitMargin'] = (\n",
    "    df['ProfitMargin']\n",
    "    .astype(str)\n",
    "    .str.replace(\"'\", '', regex=False)\n",
    "    .str.replace('\"', '', regex=False)\n",
    "    .str.replace('%', '', regex=False)\n",
    "    .str.strip()\n",
    "    .replace('', np.nan)\n",
    "    .astype(float)\n",
    ")"
   ],
   "id": "fbd57e7f20dde557"
  },
  {
   "metadata": {
    "ExecuteTime": {
     "end_time": "2025-10-18T16:32:43.200917Z",
     "start_time": "2025-10-18T16:32:43.189015Z"
    }
   },
   "cell_type": "code",
   "outputs": [
    {
     "name": "stdout",
     "output_type": "stream",
     "text": [
      "count    30000.000000\n",
      "mean        -0.111090\n",
      "std          0.531228\n",
      "min         -4.733558\n",
      "25%         -0.267225\n",
      "50%          0.039931\n",
      "75%          0.236111\n",
      "max          0.500000\n",
      "Name: ProfitMargin, dtype: float64\n",
      "تعداد مقادیر NaN: 0\n"
     ]
    }
   ],
   "execution_count": 88,
   "source": [
    "print(df['ProfitMargin'].describe())\n",
    "print(\"تعداد مقادیر NaN:\", df['ProfitMargin'].isna().sum())"
   ],
   "id": "67f531e4f50aea7b"
  },
  {
   "metadata": {
    "ExecuteTime": {
     "end_time": "2025-10-18T16:33:36.213373Z",
     "start_time": "2025-10-18T16:33:36.199779Z"
    }
   },
   "cell_type": "code",
   "outputs": [
    {
     "name": "stdout",
     "output_type": "stream",
     "text": [
      "['Profit', 'Discount', 'ProfitMargin', 'Quantity', 'Sales', 'SalesAfterDiscount', 'Shipping Cost', 'Ship Mode', 'Category', 'CategorySubcategory', 'IsReturned', 'Market', 'Order Priority', 'Region', 'Country', 'City', 'DayOfWeek', 'IsWeekend', 'Day', 'Month', 'Year', 'Segment']\n"
     ]
    }
   ],
   "execution_count": 90,
   "source": [
    "df = df.drop(columns=[\"Product Name\"])\n",
    "print(df.columns.tolist())"
   ],
   "id": "82b7ba4afd650adf"
  },
  {
   "metadata": {
    "ExecuteTime": {
     "end_time": "2025-10-18T16:35:22.677600Z",
     "start_time": "2025-10-18T16:35:22.667365Z"
    }
   },
   "cell_type": "code",
   "outputs": [
    {
     "name": "stdout",
     "output_type": "stream",
     "text": [
      "<class 'pandas.core.series.Series'>\n",
      "RangeIndex: 30000 entries, 0 to 29999\n",
      "Series name: IsReturned\n",
      "Non-Null Count  Dtype\n",
      "--------------  -----\n",
      "30000 non-null  int64\n",
      "dtypes: int64(1)\n",
      "memory usage: 234.5 KB\n"
     ]
    }
   ],
   "execution_count": 92,
   "source": [
    "df['IsReturned'] = df['IsReturned'].map({'Yes': 1, 'No': 0})\n",
    "df['IsReturned'].info()"
   ],
   "id": "b10904d970528c8a"
  },
  {
   "metadata": {
    "ExecuteTime": {
     "end_time": "2025-10-18T16:37:13.473136Z",
     "start_time": "2025-10-18T16:37:13.420678Z"
    }
   },
   "cell_type": "code",
   "source": [
    "low_cardinality = ['Ship Mode', 'Category', 'CategorySubcategory', 'Market', 'Order Priority', 'Region', 'Segment']\n",
    "df = pd.get_dummies(df, columns=low_cardinality, drop_first=True)"
   ],
   "id": "9238f4e8935b7cb0",
   "outputs": [],
   "execution_count": 93
  },
  {
   "metadata": {
    "ExecuteTime": {
     "end_time": "2025-10-18T16:37:14.120608Z",
     "start_time": "2025-10-18T16:37:13.934460Z"
    }
   },
   "cell_type": "code",
   "source": [
    "for col in ['Country', 'City']:\n",
    "    top_values = df[col].value_counts().nlargest(10).index\n",
    "    df[col] = df[col].apply(lambda x: x if x in top_values else 'Other')\n",
    "\n",
    "df = pd.get_dummies(df, columns=['Country', 'City'], drop_first=True)"
   ],
   "id": "840331f86e687a0b",
   "outputs": [],
   "execution_count": 94
  },
  {
   "metadata": {
    "ExecuteTime": {
     "end_time": "2025-10-18T16:37:40.870517Z",
     "start_time": "2025-10-18T16:37:40.836034Z"
    }
   },
   "cell_type": "code",
   "source": [
    "num_cols = ['Discount', 'Quantity', 'Sales', 'SalesAfterDiscount', 'Shipping Cost', 'ProfitMargin', 'DayOfWeek', 'Day',\n",
    "            'Month', 'Year']\n",
    "\n",
    "scaler = RobustScaler()\n",
    "df[num_cols] = scaler.fit_transform(df[num_cols])"
   ],
   "id": "ba3aac3ed1544c01",
   "outputs": [],
   "execution_count": 95
  },
  {
   "metadata": {},
   "cell_type": "markdown",
   "source": [
    "<h2>تقسیم داده‌ها به آموزش و تست</h2>\n",
    "\n",
    "<p dir=\"rtl\">\n",
    "در این مرحله، ابتدا ویژگی‌ها (<code>X</code>) از ستون هدف (<code>Profit</code>) جدا می‌شوند. سپس داده‌ها به دو بخش آموزش (۸۰٪) و تست (۲۰٪) تقسیم می‌شوند تا بتوان عملکرد مدل را روی داده‌های دیده‌نشده ارزیابی کرد.\n",
    "</p>\n",
    "\n",
    "<p dir=\"rtl\">\n",
    "پارامترهای استفاده‌شده:\n",
    "</p>\n",
    "<ul dir=\"rtl\">\n",
    "  <li><code>test_size=0.2</code>: ۲۰٪ از داده‌ها برای تست کنار گذاشته می‌شود</li>\n",
    "  <li><code>random_state=42</code>: برای تکرارپذیری نتایج، یک مقدار ثابت برای تصادفی‌سازی استفاده شده است</li>\n",
    "</ul>\n"
   ],
   "id": "af87d78cfe5c46ec"
  },
  {
   "metadata": {
    "ExecuteTime": {
     "end_time": "2025-10-18T16:37:57.711804Z",
     "start_time": "2025-10-18T16:37:57.676084Z"
    }
   },
   "cell_type": "code",
   "source": [
    "X = df.drop(columns=['Profit'])\n",
    "y = df['Profit']\n",
    "\n",
    "X_train, X_test, y_train, y_test = train_test_split(X, y, test_size=0.2, random_state=42)"
   ],
   "id": "82caa58e612406eb",
   "outputs": [],
   "execution_count": 96
  },
  {
   "metadata": {
    "ExecuteTime": {
     "end_time": "2025-10-18T16:37:58.882929Z",
     "start_time": "2025-10-18T16:37:58.860914Z"
    }
   },
   "cell_type": "code",
   "source": "X_train.info()",
   "id": "bcb77de136fc4268",
   "outputs": [
    {
     "name": "stdout",
     "output_type": "stream",
     "text": [
      "<class 'pandas.core.frame.DataFrame'>\n",
      "Index: 24000 entries, 21753 to 23654\n",
      "Data columns (total 76 columns):\n",
      " #   Column                                            Non-Null Count  Dtype  \n",
      "---  ------                                            --------------  -----  \n",
      " 0   Discount                                          24000 non-null  float64\n",
      " 1   ProfitMargin                                      24000 non-null  float64\n",
      " 2   Quantity                                          24000 non-null  float64\n",
      " 3   Sales                                             24000 non-null  float64\n",
      " 4   SalesAfterDiscount                                24000 non-null  float64\n",
      " 5   Shipping Cost                                     24000 non-null  float64\n",
      " 6   IsReturned                                        24000 non-null  int64  \n",
      " 7   DayOfWeek                                         24000 non-null  float64\n",
      " 8   IsWeekend                                         24000 non-null  bool   \n",
      " 9   Day                                               24000 non-null  float64\n",
      " 10  Month                                             24000 non-null  float64\n",
      " 11  Year                                              24000 non-null  float64\n",
      " 12  Ship Mode_Same Day                                24000 non-null  bool   \n",
      " 13  Ship Mode_Second Class                            24000 non-null  bool   \n",
      " 14  Ship Mode_Standard Class                          24000 non-null  bool   \n",
      " 15  Category_Office Supplies                          24000 non-null  bool   \n",
      " 16  Category_Technology                               24000 non-null  bool   \n",
      " 17  CategorySubcategory_Furniture - Chairs            24000 non-null  bool   \n",
      " 18  CategorySubcategory_Furniture - Furnishings       24000 non-null  bool   \n",
      " 19  CategorySubcategory_Furniture - Tables            24000 non-null  bool   \n",
      " 20  CategorySubcategory_Office Supplies - Appliances  24000 non-null  bool   \n",
      " 21  CategorySubcategory_Office Supplies - Art         24000 non-null  bool   \n",
      " 22  CategorySubcategory_Office Supplies - Binders     24000 non-null  bool   \n",
      " 23  CategorySubcategory_Office Supplies - Envelopes   24000 non-null  bool   \n",
      " 24  CategorySubcategory_Office Supplies - Fasteners   24000 non-null  bool   \n",
      " 25  CategorySubcategory_Office Supplies - Labels      24000 non-null  bool   \n",
      " 26  CategorySubcategory_Office Supplies - Paper       24000 non-null  bool   \n",
      " 27  CategorySubcategory_Office Supplies - Storage     24000 non-null  bool   \n",
      " 28  CategorySubcategory_Office Supplies - Supplies    24000 non-null  bool   \n",
      " 29  CategorySubcategory_Technology - Accessories      24000 non-null  bool   \n",
      " 30  CategorySubcategory_Technology - Copiers          24000 non-null  bool   \n",
      " 31  CategorySubcategory_Technology - Machines         24000 non-null  bool   \n",
      " 32  CategorySubcategory_Technology - Phones           24000 non-null  bool   \n",
      " 33  Market_Africa                                     24000 non-null  bool   \n",
      " 34  Market_Canada                                     24000 non-null  bool   \n",
      " 35  Market_EMEA                                       24000 non-null  bool   \n",
      " 36  Market_EU                                         24000 non-null  bool   \n",
      " 37  Market_LATAM                                      24000 non-null  bool   \n",
      " 38  Market_US                                         24000 non-null  bool   \n",
      " 39  Order Priority_High                               24000 non-null  bool   \n",
      " 40  Order Priority_Low                                24000 non-null  bool   \n",
      " 41  Order Priority_Medium                             24000 non-null  bool   \n",
      " 42  Region_Canada                                     24000 non-null  bool   \n",
      " 43  Region_Caribbean                                  24000 non-null  bool   \n",
      " 44  Region_Central                                    24000 non-null  bool   \n",
      " 45  Region_Central Asia                               24000 non-null  bool   \n",
      " 46  Region_East                                       24000 non-null  bool   \n",
      " 47  Region_Emea                                       24000 non-null  bool   \n",
      " 48  Region_North                                      24000 non-null  bool   \n",
      " 49  Region_North Asia                                 24000 non-null  bool   \n",
      " 50  Region_Oceania                                    24000 non-null  bool   \n",
      " 51  Region_South                                      24000 non-null  bool   \n",
      " 52  Region_Southeast Asia                             24000 non-null  bool   \n",
      " 53  Region_West                                       24000 non-null  bool   \n",
      " 54  Segment_Corporate                                 24000 non-null  bool   \n",
      " 55  Segment_Home Office                               24000 non-null  bool   \n",
      " 56  Country_Brazil                                    24000 non-null  bool   \n",
      " 57  Country_China                                     24000 non-null  bool   \n",
      " 58  Country_France                                    24000 non-null  bool   \n",
      " 59  Country_Germany                                   24000 non-null  bool   \n",
      " 60  Country_Indonesia                                 24000 non-null  bool   \n",
      " 61  Country_Mexico                                    24000 non-null  bool   \n",
      " 62  Country_Nigeria                                   24000 non-null  bool   \n",
      " 63  Country_Other                                     24000 non-null  bool   \n",
      " 64  Country_Turkey                                    24000 non-null  bool   \n",
      " 65  Country_United States                             24000 non-null  bool   \n",
      " 66  City_Istanbul                                     24000 non-null  bool   \n",
      " 67  City_Lagos                                        24000 non-null  bool   \n",
      " 68  City_Los Angeles                                  24000 non-null  bool   \n",
      " 69  City_Manila                                       24000 non-null  bool   \n",
      " 70  City_New York City                                24000 non-null  bool   \n",
      " 71  City_Other                                        24000 non-null  bool   \n",
      " 72  City_Philadelphia                                 24000 non-null  bool   \n",
      " 73  City_San Francisco                                24000 non-null  bool   \n",
      " 74  City_Santo Domingo                                24000 non-null  bool   \n",
      " 75  City_Tegucigalpa                                  24000 non-null  bool   \n",
      "dtypes: bool(65), float64(10), int64(1)\n",
      "memory usage: 3.7 MB\n"
     ]
    }
   ],
   "execution_count": 97
  },
  {
   "metadata": {},
   "cell_type": "markdown",
   "source": [
    "<h2>تعریف مدل‌ها و تنظیمات هایپرپارامترها</h2>\n",
    "\n",
    "<p dir=\"rtl\">\n",
    "در این مرحله، مجموعه‌ای از مدل‌های رگرسیونی تعریف شده‌اند که هرکدام با مجموعه‌ای از هایپرپارامترها برای تنظیم بهینه عملکردشان آماده شده‌اند. این مدل‌ها در مرحله بعد با استفاده از <code>GridSearchCV</code> آموزش داده خواهند شد.\n",
    "</p>\n",
    "\n",
    "<p dir=\"rtl\">\n",
    "هر مدل دارای مجموعه‌ای از پارامترهاست که در مرحله تنظیم با <code>GridSearchCV</code> بررسی می‌شوند تا بهترین ترکیب برای بیشترین دقت انتخاب شود.\n",
    "</p>\n"
   ],
   "id": "e338459d4be486ea"
  },
  {
   "metadata": {
    "ExecuteTime": {
     "end_time": "2025-10-18T16:38:41.904157Z",
     "start_time": "2025-10-18T16:38:41.896809Z"
    }
   },
   "cell_type": "code",
   "source": [
    "\n",
    "models = {\n",
    "    'Ridge': {\n",
    "        'model': Ridge(),\n",
    "        'params': {\n",
    "            'alpha': [0.01, 0.1, 1, 10, 100]\n",
    "        }\n",
    "    },\n",
    "    'ElasticNet': {\n",
    "        'model': ElasticNet(),\n",
    "        'params': {\n",
    "            'alpha': [0.01, 0.1, 1, 10],\n",
    "            'l1_ratio': [0.1, 0.5, 0.9],\n",
    "            'max_iter': [1000, 5000],\n",
    "            'tol': [1e-3, 1e-4]\n",
    "        }\n",
    "    },\n",
    "    'SVR': {\n",
    "        'model': SVR(),\n",
    "        'params': {\n",
    "            'C': [0.1, 1, 10],\n",
    "            'kernel': ['linear', 'rbf'],\n",
    "            'epsilon': [0.01, 0.1]\n",
    "        }\n",
    "    },\n",
    "    'GradientBoosting': {\n",
    "        'model': GradientBoostingRegressor(),\n",
    "        'params': {\n",
    "            'n_estimators': [100, 200],\n",
    "            'learning_rate': [0.01, 0.1],\n",
    "            'max_depth': [3, 5]\n",
    "        }\n",
    "    },\n",
    "    'RandomForest': {\n",
    "        'model': RandomForestRegressor(),\n",
    "        'params': {\n",
    "            'n_estimators': [100, 200],\n",
    "            'max_depth': [5, 10, None],\n",
    "            'min_samples_split': [2, 5]\n",
    "        }\n",
    "    },\n",
    "    'XGBoost': {\n",
    "        'model': XGBRegressor(),\n",
    "        'params': {\n",
    "            'n_estimators': [100, 200],\n",
    "            'learning_rate': [0.01, 0.1],\n",
    "            'max_depth': [3, 5],\n",
    "            'reg_alpha': [0, 0.1],\n",
    "            'reg_lambda': [1, 5]\n",
    "        }\n",
    "    }\n",
    "}"
   ],
   "id": "5a4a756ed569ad0",
   "outputs": [],
   "execution_count": 98
  },
  {
   "metadata": {},
   "cell_type": "markdown",
   "source": [
    "<h2>آموزش مدل‌ها با GridSearchCV و ارزیابی روی داده‌های تست</h2>\n",
    "\n",
    "<p dir=\"rtl\">\n",
    "در این مرحله، با استفاده از <code>GridSearchCV</code>، بهترین ترکیب هایپرپارامترها برای هر مدل پیدا می‌شود. سپس مدل نهایی روی داده‌های تست ارزیابی می‌شود تا عملکرد واقعی آن سنجیده شود.\n",
    "</p>\n",
    "<p dir=\"rtl\">\n",
    "مراحل انجام‌شده:\n",
    "</p>\n",
    "<ul dir=\"rtl\">\n",
    "  <li>استفاده از <code>GridSearchCV</code> برای جستجوی بهترین ترکیب هایپرپارامترها با معیار <code>R²</code></li>\n",
    "  <li>استفاده از <code>cv=2</code> برای اعتبارسنجی متقاطع سریع</li>\n",
    "  <li>ذخیره بهترین مدل، امتیاز و پارامترها در دیکشنری <code>best_models</code></li>\n",
    "  <li>پیش‌بینی روی داده‌های تست و محاسبه <code>R²</code> نهایی برای هر مدل</li>\n",
    "</ul>\n"
   ],
   "id": "d9c65f22a88c7956"
  },
  {
   "metadata": {
    "ExecuteTime": {
     "end_time": "2025-10-18T16:44:58.079096Z",
     "start_time": "2025-10-18T16:38:42.427383Z"
    }
   },
   "cell_type": "code",
   "source": [
    "best_models = {}\n",
    "\n",
    "for name, config in models.items():\n",
    "    grid = GridSearchCV(config['model'], config['params'], cv=2, scoring='r2', n_jobs=-1)\n",
    "    grid.fit(X_train, y_train)\n",
    "    best_models[name] = {\n",
    "        'best_estimator': grid.best_estimator_,\n",
    "        'best_score': grid.best_score_,\n",
    "        'best_params': grid.best_params_\n",
    "    }\n",
    "    print(f\"{name} - بهترین r2: {grid.best_score_:.4f} با پارامترها: {grid.best_params_}\")"
   ],
   "id": "279422a91daa17c3",
   "outputs": [
    {
     "name": "stdout",
     "output_type": "stream",
     "text": [
      "Ridge - بهترین r2: 0.5859 با پارامترها: {'alpha': 100}\n",
      "ElasticNet - بهترین r2: 0.6140 با پارامترها: {'alpha': 0.1, 'l1_ratio': 0.1, 'max_iter': 1000, 'tol': 0.001}\n",
      "SVR - بهترین r2: 0.5878 با پارامترها: {'C': 0.1, 'epsilon': 0.01, 'kernel': 'linear'}\n",
      "GradientBoosting - بهترین r2: 0.9374 با پارامترها: {'learning_rate': 0.1, 'max_depth': 3, 'n_estimators': 100}\n",
      "RandomForest - بهترین r2: 0.9174 با پارامترها: {'max_depth': 10, 'min_samples_split': 2, 'n_estimators': 100}\n",
      "XGBoost - بهترین r2: 0.9099 با پارامترها: {'learning_rate': 0.1, 'max_depth': 5, 'n_estimators': 200, 'reg_alpha': 0, 'reg_lambda': 1}\n"
     ]
    }
   ],
   "execution_count": 99
  },
  {
   "metadata": {
    "ExecuteTime": {
     "end_time": "2025-10-18T18:17:53.834368Z",
     "start_time": "2025-10-18T18:17:49.323136Z"
    }
   },
   "cell_type": "code",
   "source": [
    "print(\"\\nارزیابی روی test set:\")\n",
    "for name, model_info in best_models.items():\n",
    "    test_pred = model_info['best_estimator'].predict(X_test)\n",
    "    test_r2 = r2_score(y_test, test_pred)\n",
    "    print(f\"{name} - R² روی test: {test_r2:.4f}\")"
   ],
   "id": "fb2cf200f2620f",
   "outputs": [
    {
     "name": "stdout",
     "output_type": "stream",
     "text": [
      "\n",
      "ارزیابی روی test set:\n",
      "Ridge - R² روی test: 0.6066\n",
      "ElasticNet - R² روی test: 0.6246\n",
      "SVR - R² روی test: 0.6893\n",
      "GradientBoosting - R² روی test: 0.9692\n",
      "RandomForest - R² روی test: 0.9847\n",
      "XGBoost - R² روی test: 0.9667\n"
     ]
    }
   ],
   "execution_count": 120
  },
  {
   "metadata": {},
   "cell_type": "markdown",
   "source": [
    "<h2>انتخاب مدل نهایی</h2>\n",
    "\n",
    "<p dir=\"rtl\">\n",
    "پس از آموزش و ارزیابی چندین مدل رگرسیونی شامل <strong>Ridge</strong>، <strong>ElasticNet</strong>، <strong>SVR</strong>، <strong>GradientBoosting</strong>، <strong>RandomForest</strong> و <strong>XGBoost</strong>، در نهایت مدل <strong>GradientBoostingRegressor</strong> به‌عنوان مدل نهایی انتخاب شد.\n",
    "</p>\n",
    "\n",
    "<h3>دلایل انتخاب:</h3>\n",
    "<ul dir=\"rtl\">\n",
    "  <li><strong>دقت بالا:</strong> مقدار R² روی داده‌های تست برابر با <code>0.9692</code> بود که نشان‌دهنده قدرت پیش‌بینی بسیار خوب مدل است.</li>\n",
    "  <li><strong>تعادل بین دقت و پیچیدگی:</strong> در مقایسه با مدل‌های RandomForest و XGBoost که دقت مشابهی داشتند، GradientBoosting سبک‌تر و سریع‌تر است.</li>\n",
    "  <li><strong>قابلیت تعمیم‌پذیری:</strong> مدل روی داده‌های تست عملکرد پایداری داشت و دچار overfitting نشد.</li>\n",
    "  <li><strong>قابل تفسیر بودن:</strong> امکان استخراج اهمیت ویژگی‌ها و تحلیل رفتار مدل وجود دارد.</li>\n",
    "</ul>\n",
    "\n",
    "<p dir=\"rtl\">\n",
    "در نتیجه، مدل <strong>GradientBoostingRegressor</strong> با پارامترهای بهینه‌شده زیر به‌عنوان مدل نهایی انتخاب شد:\n",
    "</p>\n",
    "\n",
    "<pre>\n",
    "GradientBoostingRegressor(\n",
    "    learning_rate=0.1,\n",
    "    max_depth=3,\n",
    "    n_estimators=100\n",
    ")\n",
    "</pre>\n"
   ],
   "id": "6e2fc3c6713aa130"
  },
  {
   "metadata": {},
   "cell_type": "markdown",
   "source": [
    "<h2>ارزیابی نهایی مدل GradientBoosting</h2>\n",
    "\n",
    "<p dir=\"rtl\">\n",
    "پس از انتخاب مدل نهایی (GradientBoostingRegressor)، عملکرد آن روی داده‌های تست با استفاده از متریک‌های کلیدی ارزیابی می‌شود.\n",
    "</p>\n",
    "\n",
    "<p dir=\"rtl\">\n",
    "متریک‌های استفاده‌شده:\n",
    "</p>\n",
    "<ul dir=\"rtl\">\n",
    "  <li><strong>R² (ضریب تعیین):</strong> نشان می‌دهد چه درصدی از واریانس داده‌ها توسط مدل توضیح داده شده است. هرچه به ۱ نزدیک‌تر، بهتر.</li>\n",
    "  <li><strong>MAE (میانگین قدر مطلق خطا):</strong> میانگین فاصله پیش‌بینی‌ها از مقادیر واقعی. قابل تفسیر و مقاوم به داده‌های پرت.</li>\n",
    "  <li><strong>MSE (میانگین مربعات خطا):</strong> میانگین مربع خطاها. به خطاهای بزرگ حساس‌تر است و برای بررسی دقت کلی مدل مفید است.</li>\n",
    "</ul>\n"
   ],
   "id": "e6df373482cf0f32"
  },
  {
   "metadata": {
    "ExecuteTime": {
     "end_time": "2025-10-18T17:32:49.367986Z",
     "start_time": "2025-10-18T17:32:49.347207Z"
    }
   },
   "cell_type": "code",
   "source": [
    "\n",
    "final_model = best_models['GradientBoosting']['best_estimator']\n",
    "y_pred = final_model.predict(X_test)\n",
    "\n",
    "print(\"ارزیابی نهایی مدل GradientBoosting:\")\n",
    "print(\"R²:\", r2_score(y_test, y_pred))\n",
    "print(\"MAE:\", mean_absolute_error(y_test, y_pred))\n",
    "print(\"MSE:\", mean_squared_error(y_test, y_pred))\n",
    "\n",
    "\n",
    "\n"
   ],
   "id": "5aaf37b70077329b",
   "outputs": [
    {
     "name": "stdout",
     "output_type": "stream",
     "text": [
      "ارزیابی نهایی مدل GradientBoosting:\n",
      "R²: 0.9691952349923271\n",
      "MAE: 5.078990644411901\n",
      "MSE: 340.6760326742739\n"
     ]
    }
   ],
   "execution_count": 112
  },
  {
   "metadata": {},
   "cell_type": "markdown",
   "source": [
    "<h2>تحلیل اهمیت ویژگی‌ها (Feature Importance)</h2>\n",
    "\n",
    "<p dir=\"rtl\">\n",
    "مدل GradientBoostingRegressor این قابلیت را دارد که اهمیت نسبی هر ویژگی را در پیش‌بینی خروجی محاسبه کند. این تحلیل به ما کمک می‌کند تا بفهمیم کدام ویژگی‌ها بیشترین تأثیر را در پیش‌بینی سود داشته‌اند.\n",
    "</p>\n",
    "\n",
    "<p dir=\"rtl\">\n",
    "در این کد:\n",
    "</p>\n",
    "<ul dir=\"rtl\">\n",
    "  <li>ویژگی‌ها و میزان اهمیت آن‌ها از مدل استخراج می‌شوند.</li>\n",
    "  <li>با استفاده از <code>DataFrame</code> مرتب‌سازی انجام می‌شود تا مهم‌ترین ویژگی‌ها در صدر قرار گیرند.</li>\n",
    "  <li>در نهایت، ۲۰ ویژگی برتر چاپ می‌شوند که بیشترین نقش را در پیش‌بینی سود ایفا کرده‌اند.</li>\n",
    "</ul>\n",
    "\n",
    "<p dir=\"rtl\">\n",
    "این تحلیل می‌تواند برای تصمیم‌گیری‌های تجاری، انتخاب ویژگی‌های کلیدی، و بهینه‌سازی مدل‌های آینده بسیار مفید باشد.\n",
    "</p>\n"
   ],
   "id": "5fccc97e0facbae6"
  },
  {
   "metadata": {
    "ExecuteTime": {
     "end_time": "2025-10-18T17:45:27.559578Z",
     "start_time": "2025-10-18T17:45:27.552100Z"
    }
   },
   "cell_type": "code",
   "source": [
    "importances = final_model.feature_importances_\n",
    "features = X_test.columns\n",
    "\n",
    "importance_df = pd.DataFrame({'features': features, 'importances': importances})\n",
    "importance_df = importance_df.sort_values(by='importances', ascending=False)\n",
    "print(importance_df.head(20))\n"
   ],
   "id": "c12a74a70cb139e5",
   "outputs": [
    {
     "name": "stdout",
     "output_type": "stream",
     "text": [
      "                                     features  importances\n",
      "3                                       Sales     0.479952\n",
      "1                                ProfitMargin     0.470259\n",
      "0                                    Discount     0.020279\n",
      "2                                    Quantity     0.011118\n",
      "40                         Order Priority_Low     0.005836\n",
      "4                          SalesAfterDiscount     0.002971\n",
      "5                               Shipping Cost     0.002754\n",
      "19     CategorySubcategory_Furniture - Tables     0.001869\n",
      "65                      Country_United States     0.001567\n",
      "38                                  Market_US     0.001357\n",
      "31  CategorySubcategory_Technology - Machines     0.000929\n",
      "39                        Order Priority_High     0.000837\n",
      "9                                         Day     0.000166\n",
      "10                                      Month     0.000043\n",
      "7                                   DayOfWeek     0.000024\n",
      "13                     Ship Mode_Second Class     0.000016\n",
      "55                        Segment_Home Office     0.000007\n",
      "51                               Region_South     0.000007\n",
      "45                        Region_Central Asia     0.000004\n",
      "54                          Segment_Corporate     0.000003\n"
     ]
    }
   ],
   "execution_count": 116
  },
  {
   "metadata": {},
   "cell_type": "markdown",
   "source": [
    "<h2>تعریف تابع آماده‌سازی داده جدید برای پیش‌بینی</h2>\n",
    "\n",
    "<p dir=\"rtl\">\n",
    "برای استفاده عملی از مدل نهایی، تابعی تعریف شده است که داده‌های جدید را دقیقاً مطابق مراحل پیش‌پردازش انجام‌شده روی داده‌های آموزش، آماده‌سازی می‌کند. این تابع شامل حذف ستون‌های غیرضروری، تبدیل ویژگی‌های متنی به عددی، کاهش کلاس‌های زیاد، و نرمال‌سازی ویژگی‌های عددی است.\n",
    "</p>\n",
    "\n",
    "<p dir=\"rtl\">\n",
    "این تابع تضمین می‌کند که داده‌های جدید دقیقاً با همان ساختار و مقیاس‌دهی وارد مدل شوند، تا پیش‌بینی‌ها معتبر و قابل اعتماد باشند.\n",
    "</p>\n"
   ],
   "id": "4abb13d055507a4c"
  },
  {
   "metadata": {},
   "cell_type": "code",
   "outputs": [],
   "execution_count": null,
   "source": [
    "def preprocess_input_data(new_df):\n",
    "    if 'Product Name' in new_df.columns:\n",
    "        new_df = new_df.drop(columns=['Product Name'])\n",
    "\n",
    "    new_df['IsReturned'] = new_df['IsReturned'].map({'Yes': 1, 'No': 0})\n",
    "    new_df['IsWeekend'] = new_df['IsWeekend'].astype(int)\n",
    "\n",
    "    low_cardinality = ['Ship Mode', 'Category', 'CategorySubcategory', 'Market', 'Order Priority', 'Region', 'Segment']\n",
    "    new_df = pd.get_dummies(new_df, columns=low_cardinality, drop_first=True)\n",
    "\n",
    "    for col in ['Country', 'City']:\n",
    "        top_values = ['United States', 'India', 'Australia', 'Germany', 'France', 'China', 'Mexico', 'Brazil', 'Canada', 'United Kingdom']\n",
    "        new_df[col] = new_df[col].apply(lambda x: x if x in top_values else 'Other')\n",
    "\n",
    "    new_df = pd.get_dummies(new_df, columns=['Country', 'City'], drop_first=True)\n",
    "\n",
    "    num_cols = ['Discount', 'Quantity', 'Sales', 'SalesAfterDiscount', 'Shipping Cost', 'ProfitMargin',\n",
    "                'DayOfWeek', 'Day', 'Month', 'Year']\n",
    "    scaler = RobustScaler()\n",
    "    new_df[num_cols] = scaler.fit_transform(new_df[num_cols])\n",
    "\n",
    "    return new_df\n"
   ],
   "id": "90d78a291dbf6297"
  },
  {
   "metadata": {},
   "cell_type": "markdown",
   "source": [
    "<h2>ذخیره‌سازی مدل نهایی با pickle</h2>\n",
    "\n",
    "<p dir=\"rtl\">\n",
    "برای استفاده مجدد از مدل آموزش‌دیده بدون نیاز به آموزش دوباره، آن را با استفاده از کتابخانه <code>pickle</code> در قالب فایل باینری ذخیره می‌کنیم.\n",
    "</p>\n",
    "\n",
    "<p dir=\"rtl\">\n",
    "در این کد:\n",
    "</p>\n",
    "<ul dir=\"rtl\">\n",
    "  <li><code>'gradient_boosting_profit_model.pkl'</code> نام فایلی است که مدل در آن ذخیره می‌شود. می‌توان این نام را به دلخواه تغییر داد.</li>\n",
    "  <li><code>'wb'</code> به معنای \"نوشتن باینری\" است؛ یعنی فایل به‌صورت باینری باز می‌شود تا داده‌ها در آن ذخیره شوند.</li>\n",
    "  <li><code>pickle.dump(...)</code> مدل آموزش‌دیده را در فایل مشخص‌شده ذخیره می‌کند.</li>\n",
    "</ul>\n",
    "\n",
    "<p dir=\"rtl\">\n",
    "این فایل را می‌توان در آینده بارگذاری کرد و مستقیماً برای پیش‌بینی استفاده نمود، بدون نیاز به آموزش مجدد مدل.البته باید داده ها با تابع بالا آماده بشن بعد به مدل داده بشن\n",
    "</p>\n"
   ],
   "id": "a6b298beb7b7e5b3"
  },
  {
   "metadata": {
    "ExecuteTime": {
     "end_time": "2025-10-18T18:15:58.887419Z",
     "start_time": "2025-10-18T18:15:58.876938Z"
    }
   },
   "cell_type": "code",
   "source": [
    "with open('gradient_boosting_profit_model.pkl', 'wb') as f:\n",
    "    pickle.dump(final_model, f)"
   ],
   "id": "2590f86e19d11e0e",
   "outputs": [],
   "execution_count": 119
  }
 ],
 "metadata": {
  "kernelspec": {
   "display_name": "Python 3",
   "language": "python",
   "name": "python3"
  },
  "language_info": {
   "codemirror_mode": {
    "name": "ipython",
    "version": 2
   },
   "file_extension": ".py",
   "mimetype": "text/x-python",
   "name": "python",
   "nbconvert_exporter": "python",
   "pygments_lexer": "ipython2",
   "version": "2.7.6"
  }
 },
 "nbformat": 4,
 "nbformat_minor": 5
}
